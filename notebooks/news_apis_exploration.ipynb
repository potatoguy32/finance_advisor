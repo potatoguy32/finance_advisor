{
 "cells": [
  {
   "cell_type": "code",
   "execution_count": 1,
   "metadata": {},
   "outputs": [],
   "source": [
    "from dotenv import load_dotenv\n",
    "import os\n",
    "import json\n",
    "import pathlib\n",
    "import pandas as pd\n",
    "import datetime\n",
    "import sqlite3\n",
    "import sys\n",
    "import yfinance as yf\n",
    "\n",
    "from polygon import RESTClient\n",
    "\n",
    "sys.path.append(\"../src\")\n",
    "from data import CRUD\n",
    "\n",
    "load_dotenv()\n",
    "%load_ext dotenv\n",
    "%dotenv"
   ]
  },
  {
   "cell_type": "code",
   "execution_count": 2,
   "metadata": {},
   "outputs": [],
   "source": [
    "INTERIM_DATA_FOLDER_PATH = pathlib.Path(\"../data/interim\")"
   ]
  },
  {
   "cell_type": "code",
   "execution_count": 3,
   "metadata": {},
   "outputs": [],
   "source": [
    "with open(INTERIM_DATA_FOLDER_PATH.joinpath('reference_store.json'), \"r\") as f:\n",
    "    reference_store = json.load(f)"
   ]
  },
  {
   "cell_type": "code",
   "execution_count": 4,
   "metadata": {},
   "outputs": [
    {
     "data": {
      "text/plain": [
       "dict_keys(['VIS', 'VFH', 'VDE', 'VGT', 'VHT'])"
      ]
     },
     "execution_count": 4,
     "metadata": {},
     "output_type": "execute_result"
    }
   ],
   "source": [
    "reference_store.keys()"
   ]
  },
  {
   "cell_type": "code",
   "execution_count": 5,
   "metadata": {},
   "outputs": [
    {
     "name": "stdout",
     "output_type": "stream",
     "text": [
      "dict_keys(['CAT', 'UNP', 'GE', 'HON', 'RTX', 'UBER', 'DE', 'UPS', 'ADP', 'ETN'])\n",
      "dict_keys(['JPM', 'BRK.A', 'V', 'MA', 'BAC', 'WFC', 'SPGI', 'GS', 'AXP', 'BLK'])\n",
      "dict_keys(['XOM', 'CVX', 'COP', 'SLB', 'EOG', 'MPC', 'PSX', 'PSD', 'VLO', 'WMB'])\n",
      "dict_keys(['MSFT', 'AAPL', 'NVDA', 'AVGO', 'ADBE', 'CRM', 'AMD', 'ACN', 'CSCO', 'ORCL'])\n",
      "dict_keys(['LLY', 'UNH', 'MRK', 'ABBV', 'TMO', 'ABT', 'DHR', 'AMGN', 'PFE', 'ISRG'])\n"
     ]
    }
   ],
   "source": [
    "print(reference_store['VIS'].keys())\n",
    "print(reference_store['VFH'].keys())\n",
    "print(reference_store['VDE'].keys())\n",
    "print(reference_store['VGT'].keys())\n",
    "print(reference_store['VHT'].keys())"
   ]
  },
  {
   "cell_type": "code",
   "execution_count": null,
   "metadata": {},
   "outputs": [],
   "source": []
  },
  {
   "cell_type": "code",
   "execution_count": null,
   "metadata": {},
   "outputs": [],
   "source": [
    "# reference_store['VIS'].update({'UBER': {}, 'DE': {}, 'UPS': {}, 'ADP': {}, 'ETN': {}})\n",
    "# reference_store['VFH'].update({'WFC': {}, 'SPGI': {}, 'GS': {}, 'AXP': {}, 'BLK': {}})\n",
    "# reference_store['VDE'].update({'MPC': {}, 'PSX': {}, 'PSD': {}, 'VLO': {}, 'WMB': {}})\n",
    "# reference_store['VGT'].update({'CRM': {}, 'AMD': {}, 'ACN': {}, 'CSCO': {}, 'ORCL': {}})\n",
    "# reference_store['VHT'].update({'ABT': {}, 'DHR': {}, 'AMGN': {}, 'PFE': {}, 'ISRG': {}})"
   ]
  },
  {
   "cell_type": "code",
   "execution_count": null,
   "metadata": {},
   "outputs": [],
   "source": [
    "reference_store['VIS'].keys()"
   ]
  },
  {
   "cell_type": "code",
   "execution_count": null,
   "metadata": {},
   "outputs": [],
   "source": [
    "with open(INTERIM_DATA_FOLDER_PATH.joinpath('reference_store.json'), \"w\") as f:\n",
    "    json.dump(reference_store, f)"
   ]
  },
  {
   "cell_type": "markdown",
   "metadata": {},
   "source": [
    "# Yahoo finance API"
   ]
  },
  {
   "cell_type": "code",
   "execution_count": null,
   "metadata": {},
   "outputs": [],
   "source": [
    "with sqlite3.connect(\"../src/data/finance_advisor_database.db\") as conn:\n",
    "    cur = conn.cursor()\n",
    "    rest = cur.execute(\"select distinct etf_symbol, company_symbol from news;\")"
   ]
  },
  {
   "cell_type": "code",
   "execution_count": null,
   "metadata": {},
   "outputs": [],
   "source": [
    "ticker = yf.Tickers('VIS CAT')"
   ]
  },
  {
   "cell_type": "code",
   "execution_count": null,
   "metadata": {},
   "outputs": [],
   "source": [
    "hist = ticker.history(start='2020-06-01', group_by='ticker')"
   ]
  },
  {
   "cell_type": "code",
   "execution_count": null,
   "metadata": {},
   "outputs": [],
   "source": [
    "hist"
   ]
  },
  {
   "cell_type": "markdown",
   "metadata": {},
   "source": [
    "# Check reference store"
   ]
  },
  {
   "cell_type": "code",
   "execution_count": null,
   "metadata": {},
   "outputs": [],
   "source": [
    "INTERIM_DATA_FOLDER_PATH = pathlib.Path(\"../data/interim\")\n",
    "RAW_DATA_FOLDER_PATH = pathlib.Path(\"../data/raw\")"
   ]
  },
  {
   "cell_type": "code",
   "execution_count": null,
   "metadata": {},
   "outputs": [],
   "source": [
    "with open(INTERIM_DATA_FOLDER_PATH.joinpath(\"reference_store.json\"), 'r') as f:\n",
    "    reference_store = json.load(f)"
   ]
  },
  {
   "cell_type": "markdown",
   "metadata": {},
   "source": [
    "# Polygon"
   ]
  },
  {
   "cell_type": "code",
   "execution_count": null,
   "metadata": {},
   "outputs": [],
   "source": [
    "POLYGON_API_KEY = os.environ[\"POLYGON_API_KEY\"]"
   ]
  },
  {
   "cell_type": "code",
   "execution_count": null,
   "metadata": {},
   "outputs": [],
   "source": [
    "client = RESTClient(api_key=POLYGON_API_KEY)"
   ]
  },
  {
   "cell_type": "code",
   "execution_count": null,
   "metadata": {},
   "outputs": [],
   "source": [
    "response = client.list_ticker_news(ticker='C', published_utc='2024-02-01')\n",
    "aber = [a for a in response]"
   ]
  },
  {
   "cell_type": "code",
   "execution_count": null,
   "metadata": {},
   "outputs": [],
   "source": [
    "aber"
   ]
  },
  {
   "cell_type": "code",
   "execution_count": null,
   "metadata": {},
   "outputs": [],
   "source": [
    "for obj in aber:\n",
    "    print(obj.title)"
   ]
  }
 ],
 "metadata": {
  "kernelspec": {
   "display_name": "py310",
   "language": "python",
   "name": "python3"
  },
  "language_info": {
   "codemirror_mode": {
    "name": "ipython",
    "version": 3
   },
   "file_extension": ".py",
   "mimetype": "text/x-python",
   "name": "python",
   "nbconvert_exporter": "python",
   "pygments_lexer": "ipython3",
   "version": "3.10.13"
  }
 },
 "nbformat": 4,
 "nbformat_minor": 2
}

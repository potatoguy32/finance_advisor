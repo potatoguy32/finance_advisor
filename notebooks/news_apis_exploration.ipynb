{
 "cells": [
  {
   "cell_type": "code",
   "execution_count": 1,
   "metadata": {},
   "outputs": [],
   "source": [
    "from dotenv import load_dotenv\n",
    "import os\n",
    "import json\n",
    "import pathlib\n",
    "import pandas as pd\n",
    "import datetime\n",
    "\n",
    "from polygon import RESTClient\n",
    "\n",
    "\n",
    "load_dotenv()\n",
    "%load_ext dotenv\n",
    "%dotenv"
   ]
  },
  {
   "cell_type": "markdown",
   "metadata": {},
   "source": [
    "# Check reference store"
   ]
  },
  {
   "cell_type": "code",
   "execution_count": 2,
   "metadata": {},
   "outputs": [],
   "source": [
    "INTERIM_DATA_FOLDER_PATH = pathlib.Path(\"../data/interim\")\n",
    "RAW_DATA_FOLDER_PATH = pathlib.Path(\"../data/raw\")"
   ]
  },
  {
   "cell_type": "code",
   "execution_count": 3,
   "metadata": {},
   "outputs": [],
   "source": [
    "def get_reference_to_fill():\n",
    "    with open(INTERIM_DATA_FOLDER_PATH.joinpath('reference_store.json'), \"r\") as f:\n",
    "        reference_store = json.load(f)\n",
    "\n",
    "    with open(INTERIM_DATA_FOLDER_PATH.joinpath('latest_config.json'), \"r\") as f:\n",
    "        last_config = json.load(f)\n",
    "        \n",
    "    last_date = datetime.datetime.strptime((last_config['date']), '%Y-%m-%d')\n",
    "    end_date = datetime.datetime(2023, 12, 31)\n",
    "    last_etf = last_config['etf']\n",
    "    listed_etfs = list(reference_store.keys())\n",
    "    last_company = last_config['company']\n",
    "    listed_companies = list(reference_store[last_etf].keys())\n",
    "\n",
    "    reached_last_date = last_date == end_date\n",
    "    reached_last_company = listed_companies.index(last_company) + 1 == len(listed_companies)\n",
    "    reached_last_etf = listed_etfs.index(last_etf) + 1 == len(listed_etfs)\n",
    "\n",
    "    # End of the reference store\n",
    "    if reached_last_date and reached_last_company and reached_last_etf:\n",
    "        return reference_store\n",
    "\n",
    "    for etf in listed_etfs[:listed_etfs.index(last_etf)]:\n",
    "        reference_store.pop(etf)\n",
    "\n",
    "    for company in listed_companies[: listed_companies.index(last_company)]:\n",
    "        reference_store[last_etf].pop(company)\n",
    "\n",
    "    for date in list(reference_store[last_etf][last_company].keys()):\n",
    "        reference_store[last_etf][last_company].pop(date)\n",
    "        if datetime.datetime.strptime(date, '%Y-%m-%d') == last_date:\n",
    "            break\n",
    "        \n",
    "    return reference_store"
   ]
  },
  {
   "cell_type": "code",
   "execution_count": 4,
   "metadata": {},
   "outputs": [],
   "source": [
    "with open(INTERIM_DATA_FOLDER_PATH.joinpath('reference_store.json'), \"r\") as f:\n",
    "    reference_store = json.load(f)\n",
    "\n",
    "with open(INTERIM_DATA_FOLDER_PATH.joinpath('latest_config.json'), \"r\") as f:\n",
    "    last_config = json.load(f)"
   ]
  },
  {
   "cell_type": "code",
   "execution_count": 5,
   "metadata": {},
   "outputs": [],
   "source": [
    "aber = get_reference_to_fill()"
   ]
  },
  {
   "cell_type": "code",
   "execution_count": 6,
   "metadata": {},
   "outputs": [],
   "source": [
    "aber['VIS']['CAT'].update({\n",
    "    '2023-03-10': [{'a': 1, 'b': 2}, {'a': 3, 'b': 4}],\n",
    "    '2023-03-11': [{'a': 1, 'b': 2}, {'a': 3, 'b': 4}],\n",
    "    '2023-03-12': [{'a': 1, 'b': 2}, {'a': 3, 'b': 4}],\n",
    "})"
   ]
  },
  {
   "cell_type": "code",
   "execution_count": 7,
   "metadata": {},
   "outputs": [],
   "source": [
    "for etf, company_dict in aber.items():\n",
    "    for company, news_dict in company_dict.items():\n",
    "        reference_store[etf][company].update(news_dict)"
   ]
  },
  {
   "cell_type": "markdown",
   "metadata": {},
   "source": [
    "# Polygon"
   ]
  },
  {
   "cell_type": "code",
   "execution_count": null,
   "metadata": {},
   "outputs": [],
   "source": [
    "POLYGON_API_KEY = os.environ[\"POLYGON_API_KEY\"]"
   ]
  },
  {
   "cell_type": "code",
   "execution_count": null,
   "metadata": {},
   "outputs": [],
   "source": [
    "client = RESTClient(api_key=POLYGON_API_KEY)"
   ]
  },
  {
   "cell_type": "code",
   "execution_count": null,
   "metadata": {},
   "outputs": [],
   "source": [
    "response = client.list_ticker_news(ticker='C', published_utc='2024-02-01')\n",
    "aber = [a for a in response]"
   ]
  },
  {
   "cell_type": "code",
   "execution_count": null,
   "metadata": {},
   "outputs": [],
   "source": [
    "aber"
   ]
  },
  {
   "cell_type": "code",
   "execution_count": null,
   "metadata": {},
   "outputs": [],
   "source": [
    "for obj in aber:\n",
    "    print(obj.title)"
   ]
  }
 ],
 "metadata": {
  "kernelspec": {
   "display_name": "py310",
   "language": "python",
   "name": "python3"
  },
  "language_info": {
   "codemirror_mode": {
    "name": "ipython",
    "version": 3
   },
   "file_extension": ".py",
   "mimetype": "text/x-python",
   "name": "python",
   "nbconvert_exporter": "python",
   "pygments_lexer": "ipython3",
   "version": "3.10.13"
  }
 },
 "nbformat": 4,
 "nbformat_minor": 2
}
